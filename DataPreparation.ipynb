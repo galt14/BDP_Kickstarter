{
  "nbformat": 4,
  "nbformat_minor": 0,
  "metadata": {
    "colab": {
      "provenance": [],
      "private_outputs": true,
      "machine_shape": "hm",
      "toc_visible": true
    },
    "kernelspec": {
      "name": "python3",
      "display_name": "Python 3"
    },
    "language_info": {
      "name": "python"
    },
    "gpuClass": "standard"
  },
  "cells": [
    {
      "cell_type": "markdown",
      "source": [
        "# Kickstarter Project\n",
        "\n",
        "### In this project we analyze which features affects on the success of Kickstarter projects. We perform analysis using ML algorithms – Random Forest Classifier and SVM."
      ],
      "metadata": {
        "id": "kK-M_U2cw4WI"
      }
    },
    {
      "cell_type": "markdown",
      "source": [
        "# Part 1: Data Preperation\n",
        "\n",
        "### In this part we prepare the dataset - extract json columns to new columns, Removed irrelevant columns, remove rows that included null cells. Then, apply string indexer for string columns."
      ],
      "metadata": {
        "id": "Kp4Si6L9adH-"
      }
    },
    {
      "cell_type": "markdown",
      "source": [
        "## Imports & Configurations"
      ],
      "metadata": {
        "id": "YyeK2hlzcFCV"
      }
    },
    {
      "cell_type": "code",
      "source": [
        "!apt-get install openjdk-8-jdk-headless -qq > /dev/null\n",
        "!wget -O ./spark-3.3.1-bin-hadoop3.tgz  https://dlcdn.apache.org/spark/spark-3.3.1/spark-3.3.1-bin-hadoop3.tgz\n",
        "!tar zxvf ./spark-3.3.1-bin-hadoop3.tgz\n",
        "!pip install findspark\n",
        "!pip install pyspark"
      ],
      "metadata": {
        "id": "tHBSeuHDcG4i"
      },
      "execution_count": null,
      "outputs": []
    },
    {
      "cell_type": "code",
      "source": [
        "from google.colab import drive\n",
        "drive.mount('/content/drive')"
      ],
      "metadata": {
        "id": "dX7LmxfsfB_2"
      },
      "execution_count": null,
      "outputs": []
    },
    {
      "cell_type": "code",
      "source": [
        "import os\n",
        "\n",
        "import findspark\n",
        "import pyspark\n",
        "import numpy as np\n",
        "\n",
        "from pyspark.sql import SparkSession\n",
        "from pyspark.sql import functions as F\n",
        "from pyspark.sql import types as T\n",
        "\n",
        "from pyspark.ml.feature import VectorAssembler\n",
        "from pyspark.ml.feature import Imputer\n",
        "from pyspark.ml.feature import StringIndexer, OneHotEncoder\n",
        "\n",
        "%matplotlib inline\n",
        "import seaborn as sns\n",
        "import matplotlib.pyplot as plt"
      ],
      "metadata": {
        "id": "uBQDA7tUdMcH"
      },
      "execution_count": null,
      "outputs": []
    },
    {
      "cell_type": "code",
      "source": [
        "spark = SparkSession.builder.config(\"spark.driver.memory\", \"2g\")\\\n",
        "    .config(\"spark.executor.memory\", \"2g\") \\\n",
        "    .config('spark.executor.cores', '3') \\\n",
        "    .config('spark.cores.max', '3') \\\n",
        "    .appName(\"prepare\").getOrCreate()\n",
        "\n",
        "spark.conf.set(\"spark.sql.shuffle.partitions\", 10)\n",
        "spark.conf.set(\"spark.default.parallelism\", 10)"
      ],
      "metadata": {
        "id": "q1nfHzIsOiAh"
      },
      "execution_count": null,
      "outputs": []
    },
    {
      "cell_type": "markdown",
      "source": [
        "## Read the Data"
      ],
      "metadata": {
        "id": "RPWV_c1knjUD"
      }
    },
    {
      "cell_type": "code",
      "source": [
        "df = spark.read.csv(\"/content/drive/MyDrive/BDP Final Project/Notebooks/Data/alldata.csv\",\n",
        "                    inferSchema=True,\n",
        "                    header=True,\n",
        "                    escape='\"')"
      ],
      "metadata": {
        "id": "pAuNr_N5d46-"
      },
      "execution_count": null,
      "outputs": []
    },
    {
      "cell_type": "code",
      "source": [
        "df.show()"
      ],
      "metadata": {
        "id": "mRpnCI4vBoqw"
      },
      "execution_count": null,
      "outputs": []
    },
    {
      "cell_type": "markdown",
      "source": [
        "#Part 1.1: Data Cleaning"
      ],
      "metadata": {
        "id": "1jggvnBwdwsB"
      }
    },
    {
      "cell_type": "markdown",
      "source": [
        "## Prepare Schema"
      ],
      "metadata": {
        "id": "sDna4Yuantd4"
      }
    },
    {
      "cell_type": "code",
      "source": [
        "df.printSchema()"
      ],
      "metadata": {
        "id": "Ncl_gHPIHqey"
      },
      "execution_count": null,
      "outputs": []
    },
    {
      "cell_type": "code",
      "source": [
        "df.select('category').show(5,False)"
      ],
      "metadata": {
        "id": "eUmVf0d1b9pg"
      },
      "execution_count": null,
      "outputs": []
    },
    {
      "cell_type": "code",
      "source": [
        "category_schema = T.StructType([\n",
        "    T.StructField(\"id\", T.LongType(), True),\n",
        "    T.StructField(\"name\", T.StringType(), True),\n",
        "    T.StructField(\"slug\", T.StringType(), True),\n",
        "    T.StructField(\"position\", T.StringType(), True),\n",
        "    T.StructField(\"parent_id\", T.LongType(), True),\n",
        "    T.StructField(\"parent_name\", T.StringType(), True),\n",
        "    T.StructField(\"color\", T.LongType(), True),\n",
        "    T.StructField(\"urls\", T.StringType(), True)\n",
        "    ]\n",
        ")\n",
        "df = df.withColumn(\"category\", F.from_json(F.col(\"category\"), category_schema))\n"
      ],
      "metadata": {
        "id": "Ke8mmP_GH43J"
      },
      "execution_count": null,
      "outputs": []
    },
    {
      "cell_type": "code",
      "source": [
        "df.select('creator').show(5,False)"
      ],
      "metadata": {
        "id": "YZXP3kyDcBR8"
      },
      "execution_count": null,
      "outputs": []
    },
    {
      "cell_type": "code",
      "source": [
        "creator_schema = T.StructType([\n",
        "    T.StructField(\"id\", T.LongType(), True),\n",
        "    T.StructField(\"name\", T.StringType(), True),\n",
        "    T.StructField(\"slug\", T.StringType(), True),\n",
        "    T.StructField(\"is_registered\", T.StringType(), True),\n",
        "    T.StructField(\"is_email_verified\", T.StringType(), True),\n",
        "    T.StructField(\"chosen_currency\", T.StringType(), True),\n",
        "    T.StructField(\"is_superbacker\", T.StringType(), True),\n",
        "    ]\n",
        ")\n",
        "df = df.withColumn(\"creator\", F.from_json(F.col(\"creator\"), creator_schema))\n"
      ],
      "metadata": {
        "id": "H_gad27qSxhq"
      },
      "execution_count": null,
      "outputs": []
    },
    {
      "cell_type": "code",
      "source": [
        "df.select('location').show(5,False)"
      ],
      "metadata": {
        "id": "GxKcyvvhcDkP"
      },
      "execution_count": null,
      "outputs": []
    },
    {
      "cell_type": "code",
      "source": [
        "location_schema = T.StructType([\n",
        "    T.StructField(\"id\", T.LongType(), True),\n",
        "    T.StructField(\"name\", T.StringType(), True),\n",
        "    T.StructField(\"slug\", T.StringType(), True),\n",
        "    T.StructField(\"short_name\", T.StringType(), True),\n",
        "    T.StructField(\"displayable_name\", T.StringType(), True),\n",
        "    T.StructField(\"localized_name\", T.StringType(), True),\n",
        "    T.StructField(\"country\", T.StringType(), True),\n",
        "    T.StructField(\"state\", T.StringType(), True),\n",
        "    T.StructField(\"type\", T.StringType(), True),\n",
        "    T.StructField(\"is_root\", T.StringType(), True),\n",
        "    T.StructField(\"expanded_country\", T.StringType(), True),\n",
        "    ]\n",
        ")\n",
        "df = df.withColumn(\"location\", F.from_json(F.col(\"location\"), location_schema))\n"
      ],
      "metadata": {
        "id": "o7z5m8QrVeq6"
      },
      "execution_count": null,
      "outputs": []
    },
    {
      "cell_type": "code",
      "source": [
        "df.select('profile').show(5,False)"
      ],
      "metadata": {
        "id": "5pTw8rAWcGs_"
      },
      "execution_count": null,
      "outputs": []
    },
    {
      "cell_type": "code",
      "source": [
        "profile_schema = T.StructType([\n",
        "    T.StructField(\"id\", T.LongType(), True),\n",
        "    T.StructField(\"project_id\", T.LongType(), True),\n",
        "    T.StructField(\"state\", T.StringType(), True),\n",
        "    T.StructField(\"state_changed_at\", T.StringType(), True),\n",
        "    T.StructField(\"name\", T.StringType(), True),\n",
        "    T.StructField(\"blurb\", T.StringType(), True),\n",
        "    T.StructField(\"background_color\", T.StringType(), True),\n",
        "    T.StructField(\"text_color\", T.StringType(), True),\n",
        "    T.StructField(\"link_background_color\", T.StringType(), True),\n",
        "    T.StructField(\"link_text_color\", T.StringType(), True),\n",
        "    T.StructField(\"link_text\", T.StringType(), True),\n",
        "    T.StructField(\"link_url\", T.StringType(), True),\n",
        "    T.StructField(\"show_feature_image\", T.StringType(), True),\n",
        "    T.StructField(\"background_image_opacity\", T.DoubleType(), True),\n",
        "    T.StructField(\"should_show_feature_image_section\", T.BooleanType(), True),\n",
        "    ]\n",
        ")\n",
        "df = df.withColumn(\"profile\", F.from_json(F.col(\"profile\"), profile_schema))\n"
      ],
      "metadata": {
        "id": "04rWztxJYwgs"
      },
      "execution_count": null,
      "outputs": []
    },
    {
      "cell_type": "code",
      "source": [
        "df.printSchema()"
      ],
      "metadata": {
        "id": "iixdq2ovdWXm"
      },
      "execution_count": null,
      "outputs": []
    },
    {
      "cell_type": "code",
      "source": [
        "df = df.select(\n",
        "    F.col('id').cast('long').alias('id'),\n",
        "    F.col('name').cast('string').alias('name'),\n",
        "    F.col('blurb').cast('string').alias('blurb'),\n",
        "    F.col('slug').cast('string').alias('slug'),\n",
        "    F.col('backers_count').cast('long').alias('backers_count'),\n",
        "\n",
        "    F.col('category.id').cast('long').alias('category_id'),\n",
        "    F.col('category.name').cast('string').alias('category_name'),\n",
        "    F.col('category.slug').cast('string').alias('category_slug'),\n",
        "    F.col('category.position').cast('string').alias('category_position'),\n",
        "    F.col('category.parent_id').cast('long').alias('category_parent_id'),\n",
        "    F.col('category.parent_name').cast('string').alias('category_parent_name'),\n",
        "    F.col('category.color').cast('long').alias('category_color'),\n",
        "\n",
        "    F.col('converted_pledged_amount').cast('long').alias('converted_pledged_amount'),\n",
        "    F.col('currency').cast('string').alias('currency'),\n",
        "    F.col('currency_symbol').cast('string').alias('currency_symbol'),\n",
        "    F.col('currency_trailing_code').cast('boolean').alias('currency_trailing_code'),\n",
        "    F.col('current_currency').cast('string').alias('current_currency'),\n",
        "    F.col('static_usd_rate').cast('double').alias('static_usd_rate'),\n",
        "    F.col('usd_pledged').cast('double').alias('usd_pledged'),\n",
        "    F.col('usd_type').cast('string').alias('usd_type'),\n",
        "    F.col('fx_rate').cast('double').alias('fx_rate'),\n",
        "\n",
        "    F.col('pledged').cast('double').alias('pledged'),\n",
        "    F.col('goal').cast('double').alias('goal'),\n",
        "\n",
        "    F.col('created_at').cast('long').alias('created_at_epoch'),\n",
        "    F.from_unixtime(F.col(\"created_at\"),\"MM-dd-yyyy HH:mm:ss\").cast('string').alias('created_at_value'),\n",
        "    F.col('deadline').cast('long').alias('deadline_epoch'),\n",
        "    F.from_unixtime(F.col(\"deadline\"),\"MM-dd-yyyy HH:mm:ss\").cast('string').alias('deadline_value'),\n",
        "    F.col('launched_at').cast('long').alias('launched_at_epoch'),\n",
        "    F.from_unixtime(F.col(\"launched_at\"),\"MM-dd-yyyy HH:mm:ss\").cast('string').alias('launched_at_value'),\n",
        "    F.col('state_changed_at').cast('long').alias('state_changed_at_epoch'),\n",
        "    F.from_unixtime(F.col(\"state_changed_at\"),\"MM-dd-yyyy HH:mm:ss\").cast('string').alias('state_changed_at_value'),\n",
        "    F.col('last_update_published_at').cast('long').alias('last_update_published_at_epoch'),\n",
        "    F.from_unixtime(F.col(\"last_update_published_at\"),\"MM-dd-yyyy HH:mm:ss\").cast('string').alias('last_update_published_at_value'),\n",
        "\n",
        "    F.col('creator.id').cast('long').alias('creator_id'),\n",
        "    F.col('creator.name').cast('string').alias('creator_name'),\n",
        "    F.col('creator.slug').cast('string').alias('creator_slug'),\n",
        "    F.col('creator.is_registered').cast('string').alias('creator_is_registered'),\n",
        "    F.col('creator.is_email_verified').cast('string').alias('creator_is_email_verified'),\n",
        "    F.col('creator.chosen_currency').cast('string').alias('creator_chosen_currency'),\n",
        "    F.col('creator.is_superbacker').cast('string').alias('creator_is_superbacker'),\n",
        "\n",
        "    F.col('disable_communication').cast('boolean').alias('disable_communication'),\n",
        "    F.col('friends').cast('string').alias('friends'),\n",
        "    F.col('is_backing').cast('boolean').alias('is_backing'),\n",
        "    F.col('is_starrable').cast('boolean').alias('is_starrable'),\n",
        "    F.col('is_starred').cast('boolean').alias('is_starred'),\n",
        "    F.col('permissions').cast('string').alias('permissions'),\n",
        "    F.col('spotlight').cast('boolean').alias('spotlight'),\n",
        "    F.col('staff_pick').cast('boolean').alias('staff_pick'),\n",
        "    F.col('unread_messages_count').cast('long').alias('unread_messages_count'),\n",
        "    F.col('unseen_activity_count').cast('long').alias('unseen_activity_count'),\n",
        "\n",
        "    F.col('country').cast('string').alias('country'),\n",
        "    F.col('country_displayable_name').cast('string').alias('country_displayable_name'),\n",
        "    F.col('location.id').cast('long').alias('location_id'),\n",
        "    F.col('location.name').cast('string').alias('location_name'),\n",
        "    F.col('location.slug').cast('string').alias('location_slug'),\n",
        "    F.col('location.short_name').cast('string').alias('location_short_name'),\n",
        "    F.col('location.displayable_name').cast('string').alias('location_displayable_name'),\n",
        "    F.col('location.localized_name').cast('string').alias('location_localized_name'),\n",
        "    F.col('location.country').cast('string').alias('location_country'),\n",
        "    F.col('location.state').cast('string').alias('location_state'),\n",
        "    F.col('location.type').cast('string').alias('location_type'),\n",
        "    F.col('location.is_root').cast('boolean').alias('location_is_root'),\n",
        "    F.col('location.expanded_country').cast('boolean').alias('location_expanded_country'),\n",
        "   \n",
        "    F.col('profile.id').cast('long').alias('profile_id'),\n",
        "    F.col('profile.project_id').cast('long').alias('profile_project_id'),\n",
        "    F.col('profile.state').cast('string').alias('profile_state'),\n",
        "    F.col('profile.state_changed_at').cast('string').alias('profile_state_changed_at_epoch'),\n",
        "    F.from_unixtime(F.col(\"profile.state_changed_at\"),\"MM-dd-yyyy HH:mm:ss\").cast('string').alias('profile_state_changed_at_value'),\n",
        "    F.col('profile.name').cast('string').alias('profile_name'),\n",
        "    F.col('profile.blurb').cast('string').alias('profile_blurb'),\n",
        "    F.col('profile.background_color').cast('string').alias('profile_background_color'),\n",
        "    F.col('profile.text_color').cast('string').alias('profile_text_color'),\n",
        "    F.col('profile.link_background_color').cast('string').alias('profile_link_background_color'),\n",
        "    F.col('profile.link_text_color').cast('string').alias('profile_link_text_color'),\n",
        "    F.col('profile.link_text').cast('string').alias('profile_link_text'),\n",
        "    F.col('profile.link_url').cast('string').alias('profile_link_url'),\n",
        "    F.col('profile.show_feature_image').cast('string').alias('profile_show_feature_image'),\n",
        "    F.col('profile.background_image_opacity').cast('string').alias('profile_background_image_opacity'),\n",
        "    F.col('profile.should_show_feature_image_section').cast('string').alias('profile_should_show_feature_image_section'),\n",
        "    \n",
        "    F.col('state').cast('string').alias('state'),\n",
        ")"
      ],
      "metadata": {
        "id": "uxKCfYEhD2jX"
      },
      "execution_count": null,
      "outputs": []
    },
    {
      "cell_type": "code",
      "source": [
        "df.printSchema()"
      ],
      "metadata": {
        "id": "pcKzq1SGyDsx"
      },
      "execution_count": null,
      "outputs": []
    },
    {
      "cell_type": "code",
      "source": [
        "df.show()"
      ],
      "metadata": {
        "id": "kUTdYXoyGnB7"
      },
      "execution_count": null,
      "outputs": []
    },
    {
      "cell_type": "markdown",
      "source": [
        "##Remove not relvant columns"
      ],
      "metadata": {
        "id": "PY0lu3Rdo7JQ"
      }
    },
    {
      "cell_type": "code",
      "source": [
        "columns_count = len(df.columns)\n",
        "columns_count"
      ],
      "metadata": {
        "id": "K6NvbRM2j60T"
      },
      "execution_count": null,
      "outputs": []
    },
    {
      "cell_type": "code",
      "source": [
        "rows_count = df.count()\n",
        "rows_count"
      ],
      "metadata": {
        "id": "B22lcJGjrvZd"
      },
      "execution_count": null,
      "outputs": []
    },
    {
      "cell_type": "markdown",
      "source": [
        "Remove columns that contains multiple null values:"
      ],
      "metadata": {
        "id": "WmthijRU6_qt"
      }
    },
    {
      "cell_type": "code",
      "source": [
        "null_counts = df.select([F.count(F.when(F.col(c).isNull(), c)).alias(c) for c in df.columns]).collect()[0].asDict()  "
      ],
      "metadata": {
        "id": "ftQYM9_aksnk"
      },
      "execution_count": null,
      "outputs": []
    },
    {
      "cell_type": "code",
      "source": [
        "columns_to_drop = [k for k, v in null_counts.items() if v >= rows_count * 0.5]\n",
        "columns_to_drop"
      ],
      "metadata": {
        "id": "5cerWat8keC6"
      },
      "execution_count": null,
      "outputs": []
    },
    {
      "cell_type": "code",
      "source": [
        "df = df.drop(*columns_to_drop)"
      ],
      "metadata": {
        "id": "Pnwvcv15yCrl"
      },
      "execution_count": null,
      "outputs": []
    },
    {
      "cell_type": "markdown",
      "source": [
        "Remove irrelevant columns:"
      ],
      "metadata": {
        "id": "bvoU9dGj7HIX"
      }
    },
    {
      "cell_type": "code",
      "source": [
        "columns_to_drop = ['category_position','category_color','category_slug','slug',\n",
        "  'converted_pledged_amount','currency_symbol','currency_trailing_code','static_usd_rate','current_currency',\n",
        "  'usd_pledged','usd_type','fx_rate',\n",
        "  'creator_slug','creator_id','creator_name',\n",
        "  'country_displayable_name','location_name','location_slug','location_short_name','location_displayable_name',\n",
        "  'location_localized_name','location_id',\n",
        "  'country','profile_id','profile_project_id','profile_show_feature_image','profile_background_image_opacity',\n",
        "  'profile_should_show_feature_image_section'\n",
        "]\n",
        "\n",
        "df = df.drop(*columns_to_drop)"
      ],
      "metadata": {
        "id": "t0vKXZLiPZiw"
      },
      "execution_count": null,
      "outputs": []
    },
    {
      "cell_type": "code",
      "source": [
        "df.show()"
      ],
      "metadata": {
        "id": "5llg2KvO1_wY"
      },
      "execution_count": null,
      "outputs": []
    },
    {
      "cell_type": "markdown",
      "source": [
        "## Remove corrupted and irrelevant rows"
      ],
      "metadata": {
        "id": "_J9NwVz-oh2g"
      }
    },
    {
      "cell_type": "code",
      "source": [
        "df = df.where(\n",
        "    F.col('state').isin(['successful','failed'])\n",
        ")"
      ],
      "metadata": {
        "id": "dbXCq7dm1bN_"
      },
      "execution_count": null,
      "outputs": []
    },
    {
      "cell_type": "code",
      "source": [
        "df = df.where(\n",
        "    ((F.col('name').startswith('{') == False) | (F.col('name') == None)) &\n",
        "    ((F.col('blurb').startswith('{') == False) | (F.col('blurb') == None)) &\n",
        "    ((F.col('slug').startswith('{') == False) | (F.col('slug') == None)) &\n",
        "    ((F.col('usd_type').startswith('{') == False) | (F.col('usd_type') == None)) &\n",
        "    ((F.col('country').startswith('{') == False) | (F.col('country') == None)) &\n",
        "    ((F.length(F.col('currency_symbol')) == 1) | (F.col('currency_symbol') == None) )\n",
        ")"
      ],
      "metadata": {
        "id": "lZ1VYrB6pGb_"
      },
      "execution_count": null,
      "outputs": []
    },
    {
      "cell_type": "code",
      "source": [
        "df = df\\\n",
        ".withColumn('blurb', F.regexp_replace(F.col('blurb'), '\"', ''))\\\n",
        ".withColumn('name', F.regexp_replace(F.col('name'), '\"', ''))"
      ],
      "metadata": {
        "id": "KUkSAJZOpGVD"
      },
      "execution_count": null,
      "outputs": []
    },
    {
      "cell_type": "code",
      "source": [
        "df = df.na.drop(how=\"any\")"
      ],
      "metadata": {
        "id": "TCz2c868pO5M"
      },
      "execution_count": null,
      "outputs": []
    },
    {
      "cell_type": "code",
      "source": [
        "df = df.drop_duplicates()"
      ],
      "metadata": {
        "id": "XWmjz1ZjpO0d"
      },
      "execution_count": null,
      "outputs": []
    },
    {
      "cell_type": "code",
      "source": [
        "df.show()"
      ],
      "metadata": {
        "id": "jCRjmkFbq5kE"
      },
      "execution_count": null,
      "outputs": []
    },
    {
      "cell_type": "markdown",
      "source": [
        "## Data Encoding"
      ],
      "metadata": {
        "id": "XsHv9evR_ZGY"
      }
    },
    {
      "cell_type": "markdown",
      "source": [
        "Encode string values:"
      ],
      "metadata": {
        "id": "7Qf-NYllAafE"
      }
    },
    {
      "cell_type": "code",
      "source": [
        "df = df.withColumn(\"state_index\", F.when(F.col('state') == 'successful', 1).otherwise(0))"
      ],
      "metadata": {
        "id": "YxDgaPubtvXU"
      },
      "execution_count": null,
      "outputs": []
    },
    {
      "cell_type": "code",
      "source": [
        "df_types = df.dtypes\n",
        "string_columns_not_to_encode = \\\n",
        "  ['name', 'blurb', 'deadline_value', 'created_at_value', 'launched_at_value', 'state_changed_at_value', 'profile_state_changed_at_value', 'state']\n",
        "string_columns = []\n",
        "\n",
        "for column_name, column_type in df_types:\n",
        "  if column_type == 'string' and column_name not in string_columns_not_to_encode:\n",
        "    string_columns.append(column_name)  \n",
        "                \n",
        "indexer = StringIndexer(\n",
        "    inputCols=string_columns, \n",
        "    outputCols=[\"{}_index\".format(c) for c in string_columns],\n",
        "    handleInvalid='keep'\n",
        ")\n",
        "\n",
        "df = indexer.fit(df).transform(df)"
      ],
      "metadata": {
        "id": "ddjb3it3AUv8"
      },
      "execution_count": null,
      "outputs": []
    },
    {
      "cell_type": "markdown",
      "source": [
        "Encoding boolean values:"
      ],
      "metadata": {
        "id": "yMxLMm3tWcav"
      }
    },
    {
      "cell_type": "code",
      "source": [
        "for column_name, column_type in df_types:\n",
        "  if column_type == 'boolean':\n",
        "    df = df.withColumn(f\"{column_name}_index\", F.col(column_name).cast(\"integer\"))"
      ],
      "metadata": {
        "id": "Qf3iVgYAOKgL"
      },
      "execution_count": null,
      "outputs": []
    },
    {
      "cell_type": "code",
      "source": [
        "df.show()"
      ],
      "metadata": {
        "id": "AAXhijn1M9NM"
      },
      "execution_count": null,
      "outputs": []
    },
    {
      "cell_type": "markdown",
      "source": [
        "## Save CSV"
      ],
      "metadata": {
        "id": "ZkSa1esEWBcF"
      }
    },
    {
      "cell_type": "code",
      "source": [
        "df.write.csv(\"/content/drive/MyDrive/BDP Final Project/Notebooks/Data/prepared_data.csv\", \n",
        "             header=True, mode =\"overwrite\")"
      ],
      "metadata": {
        "id": "pemU0463pK1x"
      },
      "execution_count": null,
      "outputs": []
    },
    {
      "cell_type": "markdown",
      "source": [
        "# Part 1.2: Data Visualization"
      ],
      "metadata": {
        "id": "DWcefcr1XuyZ"
      }
    },
    {
      "cell_type": "code",
      "source": [
        "def plot_counter_pie(df, column):\n",
        "    \"\"\"Plot counter pie of given column of the dataframe.\"\"\"\n",
        "    data = df.groupBy(column).count()\n",
        "    sizes = [val['count'] for val in data.select('count').collect()]\n",
        "    lables = [val[column] for val in data.select(column).collect()]\n",
        "\n",
        "    theme = plt.get_cmap('GnBu')\n",
        "    \n",
        "    fig, ax = plt.subplots(figsize=(10, 9))\n",
        "    ax.set_prop_cycle(\"color\", [theme(1. * i / len(sizes)) for i in range(len(sizes))])\n",
        "    ax.pie(sizes,\n",
        "           labels=lables,\n",
        "           autopct='%1.1f%%',\n",
        "           textprops={'size': 15}\n",
        "          )\n",
        "    ax.set_title(\"percent frequency values of \" + str(column), fontsize=22)\n",
        "    \n",
        "    plt.legend(\n",
        "        loc='upper left',\n",
        "        labels=['%s: %1.1f%%' % (\n",
        "            l, (float(s) / sum(sizes)) * 100) for l, s in zip(lables, sizes)],\n",
        "        prop={'size': 15},\n",
        "        bbox_to_anchor=(-0.3, 0.8),\n",
        "        bbox_transform=fig.transFigure\n",
        "    )\n",
        "\n",
        "    plt.show()\n",
        "\n",
        "def plot_column_state_compare(df, column, hue='state', number_of_counts=10):\n",
        "    \"\"\"Plot state compare of given column of the dataframe.\"\"\"\n",
        "    data = df.select([column, hue]).toPandas()\n",
        "\n",
        "    fig, ax = plt.subplots(1,1, figsize=(12,10))\n",
        "    plt.subplot(212)\n",
        "\n",
        "    ax = sns.countplot(x=column, hue=hue, data=data, palette='GnBu',\n",
        "                       order=data[column].value_counts().iloc[:number_of_counts].index)\n",
        "    \n",
        "    ax.set_title(\"Projects count by \" + str(column), fontsize=22)\n",
        "    ax.set_xlabel(str(column), fontsize=17)\n",
        "    ax.set_ylabel(\"Count\", fontsize=17),\n",
        "    ax.legend(loc='upper right')\n",
        "    plt.subplots_adjust(hspace = 0.4)\n",
        "    \n",
        "    plt.show()"
      ],
      "metadata": {
        "id": "Vyc5PC3nW7ji"
      },
      "execution_count": null,
      "outputs": []
    },
    {
      "cell_type": "markdown",
      "source": [
        "Plotting the successful and failed frequency:"
      ],
      "metadata": {
        "id": "f5rkYuq9EJNs"
      }
    },
    {
      "cell_type": "code",
      "source": [
        "plot_counter_pie(df, 'state')"
      ],
      "metadata": {
        "id": "BP0rszXsXC6K"
      },
      "execution_count": null,
      "outputs": []
    },
    {
      "cell_type": "markdown",
      "source": [
        "Plotting the parent category frequency:"
      ],
      "metadata": {
        "id": "NwjeNIaCERDO"
      }
    },
    {
      "cell_type": "code",
      "source": [
        "plot_counter_pie(df, 'category_parent_name')"
      ],
      "metadata": {
        "id": "epD9ghPkXRia"
      },
      "execution_count": null,
      "outputs": []
    },
    {
      "cell_type": "markdown",
      "source": [
        "Plotting compare successful and failed by State:"
      ],
      "metadata": {
        "id": "XjBRQSk5EiLi"
      }
    },
    {
      "cell_type": "code",
      "source": [
        "plot_column_state_compare(df, 'location_state')"
      ],
      "metadata": {
        "id": "mwM3qSu1YO9a"
      },
      "execution_count": null,
      "outputs": []
    },
    {
      "cell_type": "markdown",
      "source": [
        "Plotting compare successful and failed by Country:"
      ],
      "metadata": {
        "id": "2wbsaWHZEsEh"
      }
    },
    {
      "cell_type": "code",
      "source": [
        "plot_column_state_compare(df, 'location_country')"
      ],
      "metadata": {
        "id": "kER_mm5RYk3n"
      },
      "execution_count": null,
      "outputs": []
    },
    {
      "cell_type": "markdown",
      "source": [
        "Plotting compare successful and failed by Location Type:"
      ],
      "metadata": {
        "id": "Wa9O6XSNEu5J"
      }
    },
    {
      "cell_type": "code",
      "source": [
        "plot_column_state_compare(df, 'location_type')"
      ],
      "metadata": {
        "id": "AO91okyDY4pf"
      },
      "execution_count": null,
      "outputs": []
    },
    {
      "cell_type": "markdown",
      "source": [
        "Bar Plot of mean backers by parent category:"
      ],
      "metadata": {
        "id": "-Jbkf7dbI6hg"
      }
    },
    {
      "cell_type": "code",
      "source": [
        "data = df.select(['category_parent_name', 'backers_count']).toPandas()\n",
        "data = data.groupby('category_parent_name').mean().reset_index()\n",
        "\n",
        "fig, ax = plt.subplots(1,1, figsize=(12,6))\n",
        "sns.barplot(x=\"category_parent_name\", y=\"backers_count\", data=data, palette=\"GnBu\", ax=ax)\n",
        "ax.set_xticklabels(ax.get_xticklabels(), rotation=45)\n",
        "\n",
        "plt.show()"
      ],
      "metadata": {
        "id": "N6_uluGoFXvC"
      },
      "execution_count": null,
      "outputs": []
    },
    {
      "cell_type": "markdown",
      "source": [
        "Plotting compare succussful or failed by goal:\n",
        "* Used log1p to get more accuary plot"
      ],
      "metadata": {
        "id": "ugSO-J58JeNr"
      }
    },
    {
      "cell_type": "code",
      "source": [
        "data = df.select(['goal', 'backers_count', 'state']).toPandas()"
      ],
      "metadata": {
        "id": "JhdsA_80IGBB"
      },
      "execution_count": null,
      "outputs": []
    },
    {
      "cell_type": "code",
      "source": [
        "failed = np.log1p(data[data.state == 'failed'].goal)\n",
        "successful = np.log1p(data[data.state == 'successful'].goal)\n",
        "\n",
        "plt.figure(figsize=(12,6))\n",
        "sns.distplot(failed, bins=30, norm_hist=True, color = 'c')\n",
        "sns.distplot(successful, bins=30, norm_hist=True, color = 'b')\n",
        "plt.legend(title='State', loc='upper left', labels=['failed', 'successful'])\n",
        "\n",
        "plt.show()"
      ],
      "metadata": {
        "id": "4tDnEaV7H5kP"
      },
      "execution_count": null,
      "outputs": []
    },
    {
      "cell_type": "markdown",
      "source": [
        "Plotting compare succussful or failed by backers:"
      ],
      "metadata": {
        "id": "15LQBcHtJoUk"
      }
    },
    {
      "cell_type": "code",
      "source": [
        "failed = np.log1p(data[data.state == 'failed'].backers_count)\n",
        "successful = np.log1p(data[data.state == 'successful'].backers_count)\n",
        "\n",
        "plt.figure(figsize=(12,6))\n",
        "sns.distplot(failed, bins=30, norm_hist=True, color = 'c')\n",
        "sns.distplot(successful, bins=30, norm_hist=True, color = 'b')\n",
        "plt.legend(title='State', loc='upper left', labels=['failed', 'successful'])\n",
        "\n",
        "plt.show()"
      ],
      "metadata": {
        "id": "V6kxkFNwIosQ"
      },
      "execution_count": null,
      "outputs": []
    },
    {
      "cell_type": "code",
      "source": [
        "spark.stop()"
      ],
      "metadata": {
        "id": "x0vwNlhaD68h"
      },
      "execution_count": null,
      "outputs": []
    },
    {
      "cell_type": "markdown",
      "source": [
        "#Part 1.3: Conclusion\n",
        "\n",
        "\n",
        "### * The number of backers has a big impact on success.\n",
        "### * As much as the goal is lower, the more chances it'll be a successful.\n",
        "### * In the distribution of the goal variable, we can observe goal is highly skewed to the right.\n",
        "### * Games, Design and Technology categories have the most high backers mean.\n",
        "### * Most of the projects are from US."
      ],
      "metadata": {
        "id": "fd5m-V95KH7F"
      }
    }
  ]
}